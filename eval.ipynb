{
 "cells": [
  {
   "cell_type": "code",
   "execution_count": 22,
   "id": "0656a41c",
   "metadata": {},
   "outputs": [],
   "source": [
    "import pathlib\n",
    "\n",
    "import torch"
   ]
  },
  {
   "cell_type": "code",
   "execution_count": 23,
   "id": "dbdc4a1d",
   "metadata": {},
   "outputs": [],
   "source": [
    "CHECKPOINT_DIR = pathlib.Path(\"checkpoints\")"
   ]
  },
  {
   "cell_type": "code",
   "execution_count": 24,
   "id": "da386ebf",
   "metadata": {},
   "outputs": [],
   "source": [
    "checkpoint = torch.load(CHECKPOINT_DIR / \"final_model.pt\")\n",
    "device = torch.device(\"cuda\" if torch.cuda.is_available() else \"cpu\")"
   ]
  },
  {
   "cell_type": "code",
   "execution_count": 25,
   "id": "1b50e885",
   "metadata": {},
   "outputs": [
    {
     "name": "stdout",
     "output_type": "stream",
     "text": [
      "NL encoder: sentence-transformers/all-MiniLM-L6-v2 (hidden=384, frozen=True)\n",
      "Proof encoder: kaiyuy/leandojo-lean4-retriever-byt5-small (hidden=1472, frozen=True)\n",
      "Projection dim: 256\n",
      "Loaded 29991 NL-proof pairs\n",
      "Train samples: 26992, Val samples: 2999\n"
     ]
    }
   ],
   "source": [
    "from transformers import AutoTokenizer\n",
    "\n",
    "from train import ContrastiveCollator, DualEncoder, NLProofDataset\n",
    "\n",
    "args = checkpoint[\"args\"]\n",
    "# Load tokenizers\n",
    "nl_tokenizer = AutoTokenizer.from_pretrained(args[\"nl_model\"])\n",
    "proof_tokenizer = AutoTokenizer.from_pretrained(args[\"proof_model\"])\n",
    "\n",
    "# Create model\n",
    "model = DualEncoder(\n",
    "    nl_model_name=args[\"nl_model\"],\n",
    "    proof_model_name=args[\"proof_model\"],\n",
    "    projection_dim=args[\"projection_dim\"],\n",
    "    freeze_nl=args[\"freeze_nl\"],\n",
    "    freeze_proof=args[\"freeze_proof\"],\n",
    "    dropout=args[\"dropout\"],\n",
    ").to(device)\n",
    "\n",
    "# Create dataset\n",
    "dataset = NLProofDataset(\n",
    "    csv_path=args[\"csv_path\"],\n",
    "    nl_column=args[\"nl_column\"],\n",
    "    max_seq_len=args[\"max_seq_len\"],\n",
    "    max_samples=args[\"max_samples\"],\n",
    "    concat_states=False,\n",
    ")\n",
    "\n",
    "# Split into train/val\n",
    "val_size = int(len(dataset) * args[\"val_split\"])\n",
    "train_size = len(dataset) - val_size\n",
    "train_dataset, val_dataset = torch.utils.data.random_split(\n",
    "    dataset,\n",
    "    [train_size, val_size],\n",
    "    generator=torch.Generator().manual_seed(args[\"seed\"]),\n",
    ")\n",
    "\n",
    "print(f\"Train samples: {len(train_dataset)}, Val samples: {len(val_dataset)}\")\n",
    "\n",
    "# Create dataloaders\n",
    "collator = ContrastiveCollator(\n",
    "    nl_tokenizer=nl_tokenizer,\n",
    "    proof_tokenizer=proof_tokenizer,\n",
    "    nl_max_len=args[\"nl_max_len\"],\n",
    "    proof_max_len=args[\"proof_max_len\"],\n",
    ")\n",
    "\n",
    "train_loader = torch.utils.data.DataLoader(\n",
    "    train_dataset,\n",
    "    batch_size=args[\"batch_size\"],\n",
    "    shuffle=True,\n",
    "    collate_fn=collator,\n",
    "    num_workers=args[\"num_workers\"],\n",
    "    pin_memory=True,\n",
    ")\n",
    "\n",
    "val_loader = torch.utils.data.DataLoader(\n",
    "    val_dataset,\n",
    "    batch_size=args[\"batch_size\"],\n",
    "    shuffle=False,\n",
    "    collate_fn=collator,\n",
    "    num_workers=args[\"num_workers\"],\n",
    "    pin_memory=True,\n",
    ")"
   ]
  },
  {
   "cell_type": "code",
   "execution_count": 26,
   "id": "f9c38547",
   "metadata": {},
   "outputs": [
    {
     "data": {
      "text/plain": [
       "<All keys matched successfully>"
      ]
     },
     "execution_count": 26,
     "metadata": {},
     "output_type": "execute_result"
    }
   ],
   "source": [
    "model.load_state_dict(checkpoint[\"model_state_dict\"])"
   ]
  },
  {
   "cell_type": "code",
   "execution_count": 27,
   "id": "5cf0ace4",
   "metadata": {},
   "outputs": [
    {
     "name": "stderr",
     "output_type": "stream",
     "text": [
      "Evaluating: 100%|██████████| 94/94 [03:10<00:00,  2.02s/it]\n"
     ]
    }
   ],
   "source": [
    "from train import evaluate\n",
    "\n",
    "metrics = evaluate(model=model, dataloader=val_loader, device=device, ks=[10, 25, 50, 100])"
   ]
  },
  {
   "cell_type": "code",
   "execution_count": 28,
   "id": "acc3c442",
   "metadata": {},
   "outputs": [
    {
     "data": {
      "text/plain": [
       "{'nl_to_proof_R@10': 0.4291430413722992,\n",
       " 'nl_to_proof_R@25': 0.6415472030639648,\n",
       " 'nl_to_proof_R@50': 0.7792597413063049,\n",
       " 'nl_to_proof_R@100': 0.8886295557022095,\n",
       " 'proof_to_nl_R@10': 0.5055018067359924,\n",
       " 'proof_to_nl_R@25': 0.6998999714851379,\n",
       " 'proof_to_nl_R@50': 0.8196065425872803,\n",
       " 'proof_to_nl_R@100': 0.9103034138679504}"
      ]
     },
     "execution_count": 28,
     "metadata": {},
     "output_type": "execute_result"
    }
   ],
   "source": [
    "metrics"
   ]
  },
  {
   "cell_type": "code",
   "execution_count": null,
   "id": "fa5c781f",
   "metadata": {},
   "outputs": [],
   "source": []
  }
 ],
 "metadata": {
  "kernelspec": {
   "display_name": "ai-for-math-py3.12",
   "language": "python",
   "name": "python3"
  },
  "language_info": {
   "codemirror_mode": {
    "name": "ipython",
    "version": 3
   },
   "file_extension": ".py",
   "mimetype": "text/x-python",
   "name": "python",
   "nbconvert_exporter": "python",
   "pygments_lexer": "ipython3",
   "version": "3.12.3"
  }
 },
 "nbformat": 4,
 "nbformat_minor": 5
}
